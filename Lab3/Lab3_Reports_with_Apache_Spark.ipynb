{
  "nbformat": 4,
  "nbformat_minor": 0,
  "metadata": {
    "colab": {
      "provenance": []
    },
    "kernelspec": {
      "name": "python3",
      "display_name": "Python 3"
    },
    "language_info": {
      "name": "python"
    }
  },
  "cells": [
    {
      "cell_type": "code",
      "execution_count": 1,
      "metadata": {
        "id": "2FPxTSyXwHX4"
      },
      "outputs": [],
      "source": [
        "# Установим Spark:\n",
        "!apt-get install openjdk-8-jdk-headless -qq > /dev/null\n",
        "!wget -q http://archive.apache.org/dist/spark/spark-3.1.1/spark-3.1.1-bin-hadoop3.2.tgz\n",
        "!tar xf spark-3.1.1-bin-hadoop3.2.tgz\n",
        "!pip install -q findspark"
      ]
    },
    {
      "cell_type": "code",
      "source": [
        "# Установим переменные среды:\n",
        "import os\n",
        "os.environ[\"JAVA_HOME\"] = \"/usr/lib/jvm/java-8-openjdk-amd64\"\n",
        "os.environ[\"SPARK_HOME\"] = \"/content/spark-3.1.1-bin-hadoop3.2\""
      ],
      "metadata": {
        "id": "HP5oqQFiwOv4"
      },
      "execution_count": 2,
      "outputs": []
    },
    {
      "cell_type": "code",
      "source": [
        "!ls"
      ],
      "metadata": {
        "colab": {
          "base_uri": "https://localhost:8080/"
        },
        "id": "ew__aas8wOyq",
        "outputId": "4291e322-1c04-43aa-b147-1ce222191f53"
      },
      "execution_count": 3,
      "outputs": [
        {
          "output_type": "stream",
          "name": "stdout",
          "text": [
            "sample_data  spark-3.1.1-bin-hadoop3.2\tspark-3.1.1-bin-hadoop3.2.tgz\n"
          ]
        }
      ]
    },
    {
      "cell_type": "code",
      "source": [
        "pip install pyspark==3.1.1"
      ],
      "metadata": {
        "colab": {
          "base_uri": "https://localhost:8080/"
        },
        "id": "-cL7crf3wO1q",
        "outputId": "59cc4abe-be21-460a-92c1-cd2bb04f8daa"
      },
      "execution_count": 4,
      "outputs": [
        {
          "output_type": "stream",
          "name": "stdout",
          "text": [
            "Collecting pyspark==3.1.1\n",
            "  Downloading pyspark-3.1.1.tar.gz (212.3 MB)\n",
            "\u001b[2K     \u001b[90m━━━━━━━━━━━━━━━━━━━━━━━━━━━━━━━━━━━━━━━━\u001b[0m \u001b[32m212.3/212.3 MB\u001b[0m \u001b[31m4.0 MB/s\u001b[0m eta \u001b[36m0:00:00\u001b[0m\n",
            "\u001b[?25h  Preparing metadata (setup.py) ... \u001b[?25l\u001b[?25hdone\n",
            "Collecting py4j==0.10.9 (from pyspark==3.1.1)\n",
            "  Downloading py4j-0.10.9-py2.py3-none-any.whl (198 kB)\n",
            "\u001b[2K     \u001b[90m━━━━━━━━━━━━━━━━━━━━━━━━━━━━━━━━━━━━━━━━\u001b[0m \u001b[32m198.6/198.6 kB\u001b[0m \u001b[31m21.4 MB/s\u001b[0m eta \u001b[36m0:00:00\u001b[0m\n",
            "\u001b[?25hBuilding wheels for collected packages: pyspark\n",
            "  Building wheel for pyspark (setup.py) ... \u001b[?25l\u001b[?25hdone\n",
            "  Created wheel for pyspark: filename=pyspark-3.1.1-py2.py3-none-any.whl size=212767581 sha256=61db703052ff439ae8adcc21b494bb05cde89edbd898b3b5fa3b7f3e6e92de1a\n",
            "  Stored in directory: /root/.cache/pip/wheels/a0/3f/72/8efd988f9ae041f051c75e6834cd92dd6d13a726e206e8b6f3\n",
            "Successfully built pyspark\n",
            "Installing collected packages: py4j, pyspark\n",
            "  Attempting uninstall: py4j\n",
            "    Found existing installation: py4j 0.10.9.7\n",
            "    Uninstalling py4j-0.10.9.7:\n",
            "      Successfully uninstalled py4j-0.10.9.7\n",
            "Successfully installed py4j-0.10.9 pyspark-3.1.1\n"
          ]
        }
      ]
    },
    {
      "cell_type": "code",
      "source": [
        "import findspark\n",
        "findspark.init()\n",
        "from pyspark.sql import SparkSession\n",
        "spark = SparkSession.builder.master(\"local[*]\").getOrCreate()\n",
        "spark.conf.set(\"spark.sql.repl.eagerEval.enabled\", True)\n",
        "spark"
      ],
      "metadata": {
        "colab": {
          "base_uri": "https://localhost:8080/",
          "height": 219
        },
        "id": "eh3jy5YRwO4j",
        "outputId": "8701068c-3723-40df-8951-cdb04c5b1d19"
      },
      "execution_count": 5,
      "outputs": [
        {
          "output_type": "execute_result",
          "data": {
            "text/plain": [
              "<pyspark.sql.session.SparkSession at 0x79117d096e30>"
            ],
            "text/html": [
              "\n",
              "            <div>\n",
              "                <p><b>SparkSession - in-memory</b></p>\n",
              "                \n",
              "        <div>\n",
              "            <p><b>SparkContext</b></p>\n",
              "\n",
              "            <p><a href=\"http://74e17d9364b4:4040\">Spark UI</a></p>\n",
              "\n",
              "            <dl>\n",
              "              <dt>Version</dt>\n",
              "                <dd><code>v3.1.1</code></dd>\n",
              "              <dt>Master</dt>\n",
              "                <dd><code>local[*]</code></dd>\n",
              "              <dt>AppName</dt>\n",
              "                <dd><code>pyspark-shell</code></dd>\n",
              "            </dl>\n",
              "        </div>\n",
              "        \n",
              "            </div>\n",
              "        "
            ]
          },
          "metadata": {},
          "execution_count": 5
        }
      ]
    },
    {
      "cell_type": "code",
      "source": [
        "sc = spark.sparkContext"
      ],
      "metadata": {
        "id": "xBF4ah64wO7a"
      },
      "execution_count": 6,
      "outputs": []
    },
    {
      "cell_type": "code",
      "source": [
        "!wget https://git.ai.ssau.ru/tk/big_data/raw/branch/bachelor/data/programming-languages.csv"
      ],
      "metadata": {
        "colab": {
          "base_uri": "https://localhost:8080/"
        },
        "id": "iS3HqN11wO-a",
        "outputId": "bdf491e3-df42-43b3-b0ef-d09b692708fd"
      },
      "execution_count": 7,
      "outputs": [
        {
          "output_type": "stream",
          "name": "stdout",
          "text": [
            "--2024-04-20 10:32:38--  https://git.ai.ssau.ru/tk/big_data/raw/branch/bachelor/data/programming-languages.csv\n",
            "Resolving git.ai.ssau.ru (git.ai.ssau.ru)... 91.222.131.161\n",
            "Connecting to git.ai.ssau.ru (git.ai.ssau.ru)|91.222.131.161|:443... connected.\n",
            "HTTP request sent, awaiting response... 200 OK\n",
            "Length: 40269 (39K) [text/plain]\n",
            "Saving to: ‘programming-languages.csv’\n",
            "\n",
            "programming-languag 100%[===================>]  39.33K   115KB/s    in 0.3s    \n",
            "\n",
            "2024-04-20 10:32:40 (115 KB/s) - ‘programming-languages.csv’ saved [40269/40269]\n",
            "\n"
          ]
        }
      ]
    },
    {
      "cell_type": "code",
      "source": [
        "!wget https://git.ai.ssau.ru/tk/big_data/raw/branch/bachelor/data/posts_sample.xml"
      ],
      "metadata": {
        "colab": {
          "base_uri": "https://localhost:8080/"
        },
        "id": "TJMa6vvCxdvN",
        "outputId": "785badbb-e91b-423c-b81c-bef90e49a8d9"
      },
      "execution_count": 8,
      "outputs": [
        {
          "output_type": "stream",
          "name": "stdout",
          "text": [
            "--2024-04-20 10:32:40--  https://git.ai.ssau.ru/tk/big_data/raw/branch/bachelor/data/posts_sample.xml\n",
            "Resolving git.ai.ssau.ru (git.ai.ssau.ru)... 91.222.131.161\n",
            "Connecting to git.ai.ssau.ru (git.ai.ssau.ru)|91.222.131.161|:443... connected.\n",
            "HTTP request sent, awaiting response... 200 OK\n",
            "Length: 74162295 (71M) [text/plain]\n",
            "Saving to: ‘posts_sample.xml’\n",
            "\n",
            "posts_sample.xml    100%[===================>]  70.73M   457KB/s    in 3m 37s  \n",
            "\n",
            "2024-04-20 10:36:18 (334 KB/s) - ‘posts_sample.xml’ saved [74162295/74162295]\n",
            "\n"
          ]
        }
      ]
    },
    {
      "cell_type": "code",
      "source": [
        "!ls"
      ],
      "metadata": {
        "colab": {
          "base_uri": "https://localhost:8080/"
        },
        "id": "y6KabiomwPBK",
        "outputId": "1ca6e13f-cc48-40d9-9ebf-f1de4f0ed026"
      },
      "execution_count": 9,
      "outputs": [
        {
          "output_type": "stream",
          "name": "stdout",
          "text": [
            "posts_sample.xml\t   sample_data\t\t      spark-3.1.1-bin-hadoop3.2.tgz\n",
            "programming-languages.csv  spark-3.1.1-bin-hadoop3.2\n"
          ]
        }
      ]
    },
    {
      "cell_type": "code",
      "source": [
        "# Загрузим и изучим данные о языках программирования:\n",
        "languagesRaw = sc.textFile('programming-languages.csv')\n",
        "languagesRaw.take(5)"
      ],
      "metadata": {
        "colab": {
          "base_uri": "https://localhost:8080/"
        },
        "id": "ZkzEqBwkwPD6",
        "outputId": "f0fa9a7c-f58a-4c84-c6d1-7f48a7e29e77"
      },
      "execution_count": 10,
      "outputs": [
        {
          "output_type": "execute_result",
          "data": {
            "text/plain": [
              "['name,wikipedia_url',\n",
              " 'A# .NET,https://en.wikipedia.org/wiki/A_Sharp_(.NET)',\n",
              " 'A# (Axiom),https://en.wikipedia.org/wiki/A_Sharp_(Axiom)',\n",
              " 'A-0 System,https://en.wikipedia.org/wiki/A-0_System',\n",
              " 'A+,https://en.wikipedia.org/wiki/A%2B_(programming_language)']"
            ]
          },
          "metadata": {},
          "execution_count": 10
        }
      ]
    },
    {
      "cell_type": "code",
      "source": [
        "# Удалим лишнюю первую строку из данных:\n",
        "firstRaw = languagesRaw.first()\n",
        "languagesRaw = languagesRaw.filter(lambda raw: raw != firstRaw)\n",
        "languagesRaw.take(5)"
      ],
      "metadata": {
        "colab": {
          "base_uri": "https://localhost:8080/"
        },
        "id": "LS6eLW05GaeT",
        "outputId": "e03a2eb1-208f-4f0f-d451-0f2a7516a7b0"
      },
      "execution_count": 11,
      "outputs": [
        {
          "output_type": "execute_result",
          "data": {
            "text/plain": [
              "['A# .NET,https://en.wikipedia.org/wiki/A_Sharp_(.NET)',\n",
              " 'A# (Axiom),https://en.wikipedia.org/wiki/A_Sharp_(Axiom)',\n",
              " 'A-0 System,https://en.wikipedia.org/wiki/A-0_System',\n",
              " 'A+,https://en.wikipedia.org/wiki/A%2B_(programming_language)',\n",
              " 'A++,https://en.wikipedia.org/wiki/A%2B%2B']"
            ]
          },
          "metadata": {},
          "execution_count": 11
        }
      ]
    },
    {
      "cell_type": "code",
      "source": [
        "# Превратим данные просто в список языков программирования:\n",
        "languages = languagesRaw.map(lambda raw: raw.split(',', -1)[0].lower()) \\\n",
        "                        .collect()\n",
        "print(languages)"
      ],
      "metadata": {
        "colab": {
          "base_uri": "https://localhost:8080/"
        },
        "id": "LmvhHDHTGD0Q",
        "outputId": "51d2d392-d16a-4419-81de-ea6b24435b7d"
      },
      "execution_count": 12,
      "outputs": [
        {
          "output_type": "stream",
          "name": "stdout",
          "text": [
            "['a# .net', 'a# (axiom)', 'a-0 system', 'a+', 'a++', 'abap', 'abc', 'abc algol', 'abset', 'absys', 'acc', 'accent', 'ace dasl', 'acl2', 'act-iii', 'action!', 'actionscript', 'ada', 'adenine', 'agda', 'agilent vee', 'agora', 'aimms', 'alef', 'alf', 'algol 58', 'algol 60', 'algol 68', 'algol w', 'alice', 'alma-0', 'ambienttalk', 'amiga e', 'amos', 'ampl', 'apex (salesforce.com)', 'apl', \"app inventor for android's visual block language\", 'applescript', 'arc', 'arexx', 'argus', 'aspectj', 'assembly language', 'ats', 'ateji px', 'autohotkey', 'autocoder', 'autoit', 'autolisp / visual lisp', 'averest', 'awk', 'axum', 'b', 'babbage', 'bash', 'basic', 'bc', 'bcpl', 'beanshell', 'batch (windows/dos)', 'bertrand', 'beta', 'bigwig', 'bistro', 'bitc', 'bliss', 'blockly', 'bloop', 'blue', 'boo', 'boomerang', 'bourne shell (including', 'bash and', 'ksh )', 'brew', 'bpel', 'c', 'c--', 'c++ – iso/iec 14882', 'c# – iso/iec 23270', 'c/al', 'caché objectscript', 'c shell', 'caml', 'cayenne', 'cduce', 'cecil', 'cel', 'cesil', 'ceylon', 'cfengine', 'cfml', 'cg', 'ch', 'chapel', 'chain', 'charity', 'charm', 'chef', 'chill', 'chip-8', 'chomski', 'chuck', 'cics', 'cilk', 'citrine (programming language)', 'cl (ibm)', 'claire', 'clarion', 'clean', 'clipper', 'clist', 'clojure', 'clu', 'cms-2', 'cobol – iso/iec 1989', 'cobra', 'code', 'coffeescript', 'coldfusion', 'comal', 'combined programming language (cpl)', 'comit', 'common intermediate language (cil)', 'common lisp (also known as cl)', 'compass', 'component pascal', 'constraint handling rules (chr)', 'converge', 'cool', 'coq', 'coral 66', 'corn', 'corvision', 'cowsel', 'cpl', 'cryptol', 'csh', 'csound', 'csp', 'cuda', 'curl', 'curry', 'cyclone', 'cython', 'd', \"dasl (datapoint's advanced systems language)\", 'dasl (distributed application specification language)', 'dart', 'dataflex', 'datalog', 'datatrieve', 'dbase', 'dc', 'dcl', 'deesel (formerly g)', 'delphi', 'dinkc', 'dibol', 'dog', 'draco', 'drakon', 'dylan', 'dynamo', 'e', 'e#', 'ease', 'easy pl/i', 'easy programming language', 'easytrieve plus', 'ecmascript', 'edinburgh imp', 'egl', 'eiffel', 'elan', 'elixir', 'elm', 'emacs lisp', 'emerald', 'epigram', 'epl', 'erlang', 'es', 'escher', 'espol', 'esterel', 'etoys', 'euclid', 'euler', 'euphoria', 'euslisp robot programming language', 'cms exec (exec)', 'exec 2', 'executable uml', 'f', 'f#', 'factor', 'falcon', 'fantom', 'faust', 'ffp', 'fjölnir', 'fl', 'flavors', 'flex', 'floop', 'flow-matic', 'focal', 'focus', 'foil', 'formac', '@formula', 'forth', 'fortran – iso/iec 1539', 'fortress', 'foxbase', 'foxpro', 'fp', 'fpr', 'franz lisp', 'frege', 'f-script', 'g', 'game maker language', 'gamemonkey script', 'gams', 'gap', 'g-code', 'genie', 'gdl', 'gj', 'george', 'glsl', 'gnu e', 'gm', 'go', 'go!', 'goal', 'gödel', 'godiva', 'golo', 'gom (good old mad)', 'google apps script', 'gosu', 'gotran', 'gpss', 'graphtalk', 'grass', 'groovy', 'hack', 'hal/s', 'hamilton c shell', 'harbour', 'hartmann pipelines', 'haskell', 'haxe', 'high level assembly', 'hlsl', 'hop', 'hopscotch', 'hope', 'hugo', 'hume', 'hypertalk', 'ibm basic assembly language', 'ibm hascript', 'ibm informix-4gl', 'ibm rpg', 'ici', 'icon', 'id', 'idl', 'idris', 'imp', 'inform', 'io', 'ioke', 'ipl', 'iptscrae', 'islisp', 'ispf', 'iswim', 'j', 'j#', 'j++', 'jade', 'jako', 'jal', 'janus (concurrent constraint programming language)', 'janus (time-reversible computing programming language)', 'jass', 'java', 'javascript', 'jcl', 'jean', 'join java', 'joss', 'joule', 'jovial', 'joy', 'jscript', 'jscript .net', 'javafx script', 'julia', 'jython', 'k', 'kaleidoscope', 'karel', 'karel++', 'kee', 'kixtart', 'klerer-may system', 'kif', 'kojo', 'kotlin', 'krc', 'krl', 'kuka robot language)', 'krypton', 'ksh', 'l', 'l# .net', 'labview', 'ladder', 'lagoona', 'lansa', 'lasso', 'latex', 'lava', 'lc-3', 'leda', 'legoscript', 'lil', 'lilypond', 'limbo', 'limnor', 'linc', 'lingo', 'lis', 'lisa', 'lisaac', 'lisp – iso/iec 13816', 'lite-c', 'lithe', 'little b', 'logo', 'logtalk', 'lotusscript', 'lpc', 'lse', 'lsl', 'livecode', 'livescript', 'lua', 'lucid', 'lustre', 'lyapas', 'lynx', 'm2001', 'marscode (programming language)', 'm4', 'm#', 'machine code', 'mad (michigan algorithm decoder)', 'mad/i', 'magik', 'magma', 'make', 'maple', 'mapper now part of bis', 'mark-iv now vision:builder', 'mary', 'masm microsoft assembly x86', 'math-matic', 'mathematica', 'matlab', 'maxima (see also', 'macsyma )', 'max (max msp – graphical programming environment)', 'maxscript internal language 3d studio max', 'maya (mel)', 'mdl', 'mercury', 'mesa', 'metacard', 'metafont', 'microcode', 'microscript', 'miis', 'millscript', 'mimic', 'mirah', 'miranda', 'miva script', 'ml', 'moby', 'model 204', 'modelica', 'modula', 'modula-2', 'modula-3', 'mohol', 'moo', 'mortran', 'mouse', 'mpd', 'cil', 'msl', 'mumps', 'mystic programming language (mpl)', 'nasm', 'napier88', 'neko', 'nemerle', 'nesc', 'nesl', 'net.data', 'netlogo', 'netrexx', 'newlisp', 'newp', 'newspeak', 'newtonscript', 'ngl', 'nial', 'nice', 'nickle', 'nim', 'npl', 'not exactly c (nxc)', 'not quite c (nqc)', 'nsis', 'nu', 'nwscript', 'nxt-g', 'o:xml', 'oak', 'oberon', 'obj2', 'object lisp', 'objectlogo', 'object rexx', 'object pascal', 'objective-c', 'objective-j', 'obliq', 'ocaml', 'occam', 'occam-π', 'octave', 'omnimark', 'onyx', 'opa', 'opal', 'opencl', 'openedge abl', 'opl', 'ops5', 'optimj', 'orc', 'orca/modula-2', 'oriel', 'orwell', 'oxygene', 'oz', 'p′′', 'p#', 'parasail (programming language)', 'pari/gp', 'pascal – iso 7185', 'pcastl', 'pcf', 'pearl', 'peoplecode', 'perl', 'pdl', 'perl6', 'pharo', 'php', 'phrogram', 'pico', 'picolisp', 'pict', 'pike', 'pikt', 'pilot', 'pipelines', 'pizza', 'pl-11', 'pl/0', 'pl/b', 'pl/c', 'pl/i – iso 6160', 'pl/m', 'pl/p', 'pl/sql', 'pl360', 'planc', 'plankalkül', 'planner', 'plex', 'plexil', 'plus', 'pop-11', 'postscript', 'portable', 'powerhouse', 'powerbuilder – 4gl gui applcation generator from sybase', 'powershell', 'ppl', 'processing', 'processing.js', 'prograph', 'proiv', 'prolog', 'promal', 'promela', 'prose modeling language', 'protel', 'providex', 'pro*c', 'pure', 'python', 'q (equational programming language)', 'q (programming language from kx systems)', 'qalb', 'qtscript', 'quakec', 'qpl', 'r', 'r++', 'racket', 'rapid', 'rapira', 'ratfiv', 'ratfor', 'rc', 'rebol', 'red', 'redcode', 'refal', 'reia', 'revolution', 'rexx', 'rlab', 'roop', 'rpg', 'rpl', 'rsl', 'rtl/2', 'ruby', 'runescript', 'rust', 's', 's2', 's3', 's-lang', 's-plus', 'sa-c', 'sabretalk', 'sail', 'salsa', 'sam76', 'sas', 'sasl', 'sather', 'sawzall', 'sbl', 'scala', 'scheme', 'scilab', 'scratch', 'script.net', 'sed', 'seed7', 'self', 'sensetalk', 'sequencel', 'setl', 'simpol', 'signal', 'simple', 'simscript', 'simula', 'simulink', 'sisal', 'slip', 'small', 'smalltalk', 'small basic', 'sml', 'snap!', 'snobol (', 'spitbol )', 'snowball', 'sol', 'span', 'spark', 'speedcode', 'spin', 'sp/k', 'sps', 'sqr', 'squeak', 'squirrel', 'sr', 's/sl', 'stackless python', 'starlogo', 'strand', 'stata', 'stateflow', 'subtext', 'supercollider', 'supertalk', 'swift (apple programming language)', 'swift (parallel scripting language)', 'sympl', 'synccharts', 'systemverilog', 't', 'tacl', 'tacpol', 'tads', 'tal', 'tcl', 'tea', 'teco', 'telcomp', 'tex', 'tex', 'tie', 'timber', '\"tmg ', 'tom', 'tom', 'touchdevelop', 'topspeed', 'tpu', 'trac', 'ttm', 't-sql', 'ttcn', 'turing', 'tutor', 'txl', 'typescript', 'turbo c++', 'ubercode', 'ucsd pascal', 'umple', 'unicon', 'uniface', 'unity', 'unix shell', 'unrealscript', 'vala', 'visual dataflex', 'visual dialogscript', 'visual fortran', 'visual foxpro', 'visual j++', 'visual j#', 'visual objects', 'visual prolog', 'vsxu', 'vvvv', '\"watfiv', 'webdna', 'webql', 'whiley', 'windows powershell', 'winbatch', 'wolfram language', 'wyvern', 'x++', 'x#', 'x10', 'xbl', 'xc (exploits', 'xmos architecture )', 'xharbour', 'xl', 'xojo', 'xotcl', 'xpl', 'xpl0', 'xquery', 'xsb', 'xslt – see', 'xpath', 'xtend', 'yorick', 'yql', 'z notation', 'zeno', 'zopl', 'zsh', 'zpl']\n"
          ]
        }
      ]
    },
    {
      "cell_type": "code",
      "source": [
        "# Загрузим и изучим данные с постами stackoverflow:\n",
        "postsRaw = sc.textFile('posts_sample.xml')\n",
        "postsRaw.take(5)"
      ],
      "metadata": {
        "colab": {
          "base_uri": "https://localhost:8080/"
        },
        "id": "5xYZCitQxpak",
        "outputId": "dc72259c-a99d-4003-a101-66dc54372244"
      },
      "execution_count": 13,
      "outputs": [
        {
          "output_type": "execute_result",
          "data": {
            "text/plain": [
              "['<?xml version=\"1.0\" encoding=\"utf-8\"?>',\n",
              " '<posts>',\n",
              " '  <row Id=\"4\" PostTypeId=\"1\" AcceptedAnswerId=\"7\" CreationDate=\"2008-07-31T21:42:52.667\" Score=\"630\" ViewCount=\"42817\" Body=\"&lt;p&gt;I want to use a track-bar to change a form\\'s opacity.&lt;/p&gt;&#xA;&#xA;&lt;p&gt;This is my code:&lt;/p&gt;&#xA;&#xA;&lt;pre&gt;&lt;code&gt;decimal trans = trackBar1.Value / 5000;&#xA;this.Opacity = trans;&#xA;&lt;/code&gt;&lt;/pre&gt;&#xA;&#xA;&lt;p&gt;When I build the application, it gives the following error:&lt;/p&gt;&#xA;&#xA;&lt;blockquote&gt;&#xA;  &lt;p&gt;Cannot implicitly convert type &lt;code&gt;\\'decimal\\'&lt;/code&gt; to &lt;code&gt;\\'double\\'&lt;/code&gt;&lt;/p&gt;&#xA;&lt;/blockquote&gt;&#xA;&#xA;&lt;p&gt;I tried using &lt;code&gt;trans&lt;/code&gt; and &lt;code&gt;double&lt;/code&gt; but then the control doesn\\'t work. This code worked fine in a past VB.NET project.&lt;/p&gt;&#xA;\" OwnerUserId=\"8\" LastEditorUserId=\"3641067\" LastEditorDisplayName=\"Rich B\" LastEditDate=\"2019-07-19T01:39:54.173\" LastActivityDate=\"2019-07-19T01:39:54.173\" Title=\"Convert Decimal to Double?\" Tags=\"&lt;c#&gt;&lt;floating-point&gt;&lt;type-conversion&gt;&lt;double&gt;&lt;decimal&gt;\" AnswerCount=\"13\" CommentCount=\"2\" FavoriteCount=\"48\" CommunityOwnedDate=\"2012-10-31T16:42:47.213\" />',\n",
              " '  <row Id=\"6\" PostTypeId=\"1\" AcceptedAnswerId=\"31\" CreationDate=\"2008-07-31T22:08:08.620\" Score=\"281\" ViewCount=\"18214\" Body=\"&lt;p&gt;I have an absolutely positioned &lt;code&gt;div&lt;/code&gt; containing several children, one of which is a relatively positioned &lt;code&gt;div&lt;/code&gt;. When I use a &lt;code&gt;percentage-based width&lt;/code&gt; on the child &lt;code&gt;div&lt;/code&gt;, it collapses to &lt;code&gt;0 width&lt;/code&gt; on IE7, but not on Firefox or Safari.&lt;/p&gt;&#xA;&#xA;&lt;p&gt;If I use &lt;code&gt;pixel width&lt;/code&gt;, it works. If the parent is relatively positioned, the percentage width on the child works.&lt;/p&gt;&#xA;&#xA;&lt;ol&gt;&#xA;&lt;li&gt;Is there something I\\'m missing here?&lt;/li&gt;&#xA;&lt;li&gt;Is there an easy fix for this besides the &lt;code&gt;pixel-based width&lt;/code&gt; on the&#xA;child?&lt;/li&gt;&#xA;&lt;li&gt;Is there an area of the CSS specification that covers this?&lt;/li&gt;&#xA;&lt;/ol&gt;&#xA;\" OwnerUserId=\"9\" LastEditorUserId=\"3641067\" LastEditorDisplayName=\"Rich B\" LastEditDate=\"2019-07-19T01:43:04.077\" LastActivityDate=\"2019-07-19T01:43:04.077\" Title=\"Percentage width child element in absolutely positioned parent on Internet Explorer 7\" Tags=\"&lt;html&gt;&lt;css&gt;&lt;internet-explorer-7&gt;\" AnswerCount=\"6\" CommentCount=\"0\" FavoriteCount=\"10\" />',\n",
              " '  <row Id=\"7\" PostTypeId=\"2\" ParentId=\"4\" CreationDate=\"2008-07-31T22:17:57.883\" Score=\"425\" Body=\"&lt;p&gt;An explicit cast to double like this isn\\'t necessary:&lt;/p&gt;&#xA;&#xA;&lt;pre&gt;&lt;code&gt;double trans = (double) trackBar1.Value / 5000.0;&#xA;&lt;/code&gt;&lt;/pre&gt;&#xA;&#xA;&lt;p&gt;Identifying the constant as &lt;code&gt;5000.0&lt;/code&gt; (or as &lt;code&gt;5000d&lt;/code&gt;) is sufficient:&lt;/p&gt;&#xA;&#xA;&lt;pre&gt;&lt;code&gt;double trans = trackBar1.Value / 5000.0;&#xA;double trans = trackBar1.Value / 5000d;&#xA;&lt;/code&gt;&lt;/pre&gt;&#xA;\" OwnerUserId=\"9\" LastEditorUserId=\"4020527\" LastEditDate=\"2017-12-16T05:06:57.613\" LastActivityDate=\"2017-12-16T05:06:57.613\" CommentCount=\"0\" />']"
            ]
          },
          "metadata": {},
          "execution_count": 13
        }
      ]
    },
    {
      "cell_type": "code",
      "source": [
        "postsRaw.count()"
      ],
      "metadata": {
        "colab": {
          "base_uri": "https://localhost:8080/"
        },
        "id": "ez2rc5Py2Ce1",
        "outputId": "d55696af-3230-46bc-b9d2-ae64fdb2f9e5"
      },
      "execution_count": 14,
      "outputs": [
        {
          "output_type": "execute_result",
          "data": {
            "text/plain": [
              "46009"
            ]
          },
          "metadata": {},
          "execution_count": 14
        }
      ]
    },
    {
      "cell_type": "code",
      "source": [
        "# Удалим первые две строки и последнюю, чтобы остались только посты:\n",
        "postsCount = postsRaw.count()\n",
        "posts = postsRaw.zipWithIndex() \\\n",
        "                .filter(lambda x: x[1] > 1 and x[1] < postsCount - 1) \\\n",
        "                .map(lambda x: x[0])\n",
        "posts.take(5)"
      ],
      "metadata": {
        "colab": {
          "base_uri": "https://localhost:8080/"
        },
        "id": "G9kN5pBzxpfR",
        "outputId": "910da057-419e-4fed-9195-01581b1d7f31"
      },
      "execution_count": 15,
      "outputs": [
        {
          "output_type": "execute_result",
          "data": {
            "text/plain": [
              "['  <row Id=\"4\" PostTypeId=\"1\" AcceptedAnswerId=\"7\" CreationDate=\"2008-07-31T21:42:52.667\" Score=\"630\" ViewCount=\"42817\" Body=\"&lt;p&gt;I want to use a track-bar to change a form\\'s opacity.&lt;/p&gt;&#xA;&#xA;&lt;p&gt;This is my code:&lt;/p&gt;&#xA;&#xA;&lt;pre&gt;&lt;code&gt;decimal trans = trackBar1.Value / 5000;&#xA;this.Opacity = trans;&#xA;&lt;/code&gt;&lt;/pre&gt;&#xA;&#xA;&lt;p&gt;When I build the application, it gives the following error:&lt;/p&gt;&#xA;&#xA;&lt;blockquote&gt;&#xA;  &lt;p&gt;Cannot implicitly convert type &lt;code&gt;\\'decimal\\'&lt;/code&gt; to &lt;code&gt;\\'double\\'&lt;/code&gt;&lt;/p&gt;&#xA;&lt;/blockquote&gt;&#xA;&#xA;&lt;p&gt;I tried using &lt;code&gt;trans&lt;/code&gt; and &lt;code&gt;double&lt;/code&gt; but then the control doesn\\'t work. This code worked fine in a past VB.NET project.&lt;/p&gt;&#xA;\" OwnerUserId=\"8\" LastEditorUserId=\"3641067\" LastEditorDisplayName=\"Rich B\" LastEditDate=\"2019-07-19T01:39:54.173\" LastActivityDate=\"2019-07-19T01:39:54.173\" Title=\"Convert Decimal to Double?\" Tags=\"&lt;c#&gt;&lt;floating-point&gt;&lt;type-conversion&gt;&lt;double&gt;&lt;decimal&gt;\" AnswerCount=\"13\" CommentCount=\"2\" FavoriteCount=\"48\" CommunityOwnedDate=\"2012-10-31T16:42:47.213\" />',\n",
              " '  <row Id=\"6\" PostTypeId=\"1\" AcceptedAnswerId=\"31\" CreationDate=\"2008-07-31T22:08:08.620\" Score=\"281\" ViewCount=\"18214\" Body=\"&lt;p&gt;I have an absolutely positioned &lt;code&gt;div&lt;/code&gt; containing several children, one of which is a relatively positioned &lt;code&gt;div&lt;/code&gt;. When I use a &lt;code&gt;percentage-based width&lt;/code&gt; on the child &lt;code&gt;div&lt;/code&gt;, it collapses to &lt;code&gt;0 width&lt;/code&gt; on IE7, but not on Firefox or Safari.&lt;/p&gt;&#xA;&#xA;&lt;p&gt;If I use &lt;code&gt;pixel width&lt;/code&gt;, it works. If the parent is relatively positioned, the percentage width on the child works.&lt;/p&gt;&#xA;&#xA;&lt;ol&gt;&#xA;&lt;li&gt;Is there something I\\'m missing here?&lt;/li&gt;&#xA;&lt;li&gt;Is there an easy fix for this besides the &lt;code&gt;pixel-based width&lt;/code&gt; on the&#xA;child?&lt;/li&gt;&#xA;&lt;li&gt;Is there an area of the CSS specification that covers this?&lt;/li&gt;&#xA;&lt;/ol&gt;&#xA;\" OwnerUserId=\"9\" LastEditorUserId=\"3641067\" LastEditorDisplayName=\"Rich B\" LastEditDate=\"2019-07-19T01:43:04.077\" LastActivityDate=\"2019-07-19T01:43:04.077\" Title=\"Percentage width child element in absolutely positioned parent on Internet Explorer 7\" Tags=\"&lt;html&gt;&lt;css&gt;&lt;internet-explorer-7&gt;\" AnswerCount=\"6\" CommentCount=\"0\" FavoriteCount=\"10\" />',\n",
              " '  <row Id=\"7\" PostTypeId=\"2\" ParentId=\"4\" CreationDate=\"2008-07-31T22:17:57.883\" Score=\"425\" Body=\"&lt;p&gt;An explicit cast to double like this isn\\'t necessary:&lt;/p&gt;&#xA;&#xA;&lt;pre&gt;&lt;code&gt;double trans = (double) trackBar1.Value / 5000.0;&#xA;&lt;/code&gt;&lt;/pre&gt;&#xA;&#xA;&lt;p&gt;Identifying the constant as &lt;code&gt;5000.0&lt;/code&gt; (or as &lt;code&gt;5000d&lt;/code&gt;) is sufficient:&lt;/p&gt;&#xA;&#xA;&lt;pre&gt;&lt;code&gt;double trans = trackBar1.Value / 5000.0;&#xA;double trans = trackBar1.Value / 5000d;&#xA;&lt;/code&gt;&lt;/pre&gt;&#xA;\" OwnerUserId=\"9\" LastEditorUserId=\"4020527\" LastEditDate=\"2017-12-16T05:06:57.613\" LastActivityDate=\"2017-12-16T05:06:57.613\" CommentCount=\"0\" />',\n",
              " '  <row Id=\"9\" PostTypeId=\"1\" AcceptedAnswerId=\"1404\" CreationDate=\"2008-07-31T23:40:59.743\" Score=\"1742\" ViewCount=\"555183\" Body=\"&lt;p&gt;Given a &lt;code&gt;DateTime&lt;/code&gt; representing a person\\'s birthday, how do I calculate their age in years?  &lt;/p&gt;&#xA;\" OwnerUserId=\"1\" LastEditorUserId=\"3956566\" LastEditorDisplayName=\"Rich B\" LastEditDate=\"2018-04-21T17:48:14.477\" LastActivityDate=\"2019-06-26T15:25:44.253\" Title=\"How do I calculate someone\\'s age in C#?\" Tags=\"&lt;c#&gt;&lt;.net&gt;&lt;datetime&gt;\" AnswerCount=\"63\" CommentCount=\"5\" FavoriteCount=\"436\" CommunityOwnedDate=\"2011-08-16T19:40:43.080\" />',\n",
              " '  <row Id=\"11\" PostTypeId=\"1\" AcceptedAnswerId=\"1248\" CreationDate=\"2008-07-31T23:55:37.967\" Score=\"1444\" ViewCount=\"149445\" Body=\"&lt;p&gt;Given a specific &lt;code&gt;DateTime&lt;/code&gt; value, how do I display relative time, like:&lt;/p&gt;&#xA;&#xA;&lt;ul&gt;&#xA;&lt;li&gt;2 hours ago&lt;/li&gt;&#xA;&lt;li&gt;3 days ago&lt;/li&gt;&#xA;&lt;li&gt;a month ago&lt;/li&gt;&#xA;&lt;/ul&gt;&#xA;\" OwnerUserId=\"1\" LastEditorUserId=\"6479704\" LastEditorDisplayName=\"user2370523\" LastEditDate=\"2017-06-04T15:51:19.780\" LastActivityDate=\"2019-05-26T02:31:53.863\" Title=\"Calculate relative time in C#\" Tags=\"&lt;c#&gt;&lt;datetime&gt;&lt;time&gt;&lt;datediff&gt;&lt;relative-time-span&gt;\" AnswerCount=\"37\" CommentCount=\"3\" FavoriteCount=\"539\" CommunityOwnedDate=\"2009-09-04T13:15:59.820\" />']"
            ]
          },
          "metadata": {},
          "execution_count": 15
        }
      ]
    },
    {
      "cell_type": "code",
      "source": [
        "posts.count()"
      ],
      "metadata": {
        "colab": {
          "base_uri": "https://localhost:8080/"
        },
        "id": "sRQzphtjxpkN",
        "outputId": "b93a2396-5867-4b87-e518-2efa17fee4b2"
      },
      "execution_count": 16,
      "outputs": [
        {
          "output_type": "execute_result",
          "data": {
            "text/plain": [
              "46006"
            ]
          },
          "metadata": {},
          "execution_count": 16
        }
      ]
    },
    {
      "cell_type": "markdown",
      "source": [
        "**Теперь попробуем раcпарсить этот xml файл.**"
      ],
      "metadata": {
        "id": "hIZ3E-s16YcX"
      }
    },
    {
      "cell_type": "code",
      "source": [
        "# Превратим каждую строку из posts в объект xml, чтобы вытащить из них нужные поля (дату создания и теги):\n",
        "import xml.etree.ElementTree as ET\n",
        "\n",
        "def extractCreationDateAndTags(e):\n",
        "    [creationDate, tags] = e.attrib.get('CreationDate'), e.attrib.get('Tags')\n",
        "    return creationDate, tags\n",
        "\n",
        "posts_xml = posts.map(lambda post: ET.fromstring(post)) \\\n",
        "                 .map(lambda x: extractCreationDateAndTags(x)) \\\n",
        "                 .filter(lambda x: x[0] is not None and x[1] is not None)\n",
        "posts_xml.take(10)"
      ],
      "metadata": {
        "colab": {
          "base_uri": "https://localhost:8080/"
        },
        "id": "A4gwS9Gi2jHC",
        "outputId": "b0d5c528-d55a-4524-f0f9-881754533301"
      },
      "execution_count": 17,
      "outputs": [
        {
          "output_type": "execute_result",
          "data": {
            "text/plain": [
              "[('2008-07-31T21:42:52.667',\n",
              "  '<c#><floating-point><type-conversion><double><decimal>'),\n",
              " ('2008-07-31T22:08:08.620', '<html><css><internet-explorer-7>'),\n",
              " ('2008-07-31T23:40:59.743', '<c#><.net><datetime>'),\n",
              " ('2008-07-31T23:55:37.967',\n",
              "  '<c#><datetime><time><datediff><relative-time-span>'),\n",
              " ('2008-08-01T00:42:38.903',\n",
              "  '<html><browser><timezone><user-agent><timezone-offset>'),\n",
              " ('2008-08-01T00:59:11.177', '<.net><math>'),\n",
              " ('2010-09-22T10:33:21.790', '<c++><character-encoding>'),\n",
              " ('2010-09-23T06:47:28.920', '<sharepoint><infopath>'),\n",
              " ('2010-09-23T08:53:14.017', '<iphone><app-store><in-app-purchase>'),\n",
              " ('2010-09-23T11:47:00.833', '<symfony1><schema><doctrine><fixtures>')]"
            ]
          },
          "metadata": {},
          "execution_count": 17
        }
      ]
    },
    {
      "cell_type": "code",
      "source": [
        "posts_xml.count()"
      ],
      "metadata": {
        "colab": {
          "base_uri": "https://localhost:8080/"
        },
        "id": "TSzJCJBe73QC",
        "outputId": "67ce149e-74d1-4432-ee94-842001e651f9"
      },
      "execution_count": 18,
      "outputs": [
        {
          "output_type": "execute_result",
          "data": {
            "text/plain": [
              "18055"
            ]
          },
          "metadata": {},
          "execution_count": 18
        }
      ]
    },
    {
      "cell_type": "code",
      "source": [
        "# Вытащим из даты год и разобъем строку тегов на массив отдельных тегов:\n",
        "def parseCreationDateAndTags(e):\n",
        "    [creationDate, tags] = e\n",
        "    tags = tags[:-1].replace('<', '').split('>')\n",
        "    year = creationDate[:4]\n",
        "    return (year, tags)\n",
        "\n",
        "postYearTags = posts_xml.map(lambda e: parseCreationDateAndTags(e))\n",
        "postYearTags.take(10)"
      ],
      "metadata": {
        "colab": {
          "base_uri": "https://localhost:8080/"
        },
        "id": "dUWqMQ4T2jJi",
        "outputId": "6d5028f2-a4e8-4bad-81b7-57f40ed84743"
      },
      "execution_count": 19,
      "outputs": [
        {
          "output_type": "execute_result",
          "data": {
            "text/plain": [
              "[('2008', ['c#', 'floating-point', 'type-conversion', 'double', 'decimal']),\n",
              " ('2008', ['html', 'css', 'internet-explorer-7']),\n",
              " ('2008', ['c#', '.net', 'datetime']),\n",
              " ('2008', ['c#', 'datetime', 'time', 'datediff', 'relative-time-span']),\n",
              " ('2008', ['html', 'browser', 'timezone', 'user-agent', 'timezone-offset']),\n",
              " ('2008', ['.net', 'math']),\n",
              " ('2010', ['c++', 'character-encoding']),\n",
              " ('2010', ['sharepoint', 'infopath']),\n",
              " ('2010', ['iphone', 'app-store', 'in-app-purchase']),\n",
              " ('2010', ['symfony1', 'schema', 'doctrine', 'fixtures'])]"
            ]
          },
          "metadata": {},
          "execution_count": 19
        }
      ]
    },
    {
      "cell_type": "code",
      "source": [
        "postYearTags.count()"
      ],
      "metadata": {
        "colab": {
          "base_uri": "https://localhost:8080/"
        },
        "id": "Qq_0S-Te2jMD",
        "outputId": "3a672f96-d03e-4a58-c97a-a073d6df6b04"
      },
      "execution_count": 20,
      "outputs": [
        {
          "output_type": "execute_result",
          "data": {
            "text/plain": [
              "18055"
            ]
          },
          "metadata": {},
          "execution_count": 20
        }
      ]
    },
    {
      "cell_type": "code",
      "source": [
        "# Теперь сформируем пары год-тег:\n",
        "def flatPostYearTags(e):\n",
        "    return [(e[0], y) for y in e[1]]\n",
        "\n",
        "yearTags = postYearTags.flatMap(flatPostYearTags)\n",
        "yearTags.take(10)"
      ],
      "metadata": {
        "colab": {
          "base_uri": "https://localhost:8080/"
        },
        "id": "2b9lgZH4wqvG",
        "outputId": "aa4628f6-ec4b-4757-ec07-f7c6b6f0ed11"
      },
      "execution_count": 21,
      "outputs": [
        {
          "output_type": "execute_result",
          "data": {
            "text/plain": [
              "[('2008', 'c#'),\n",
              " ('2008', 'floating-point'),\n",
              " ('2008', 'type-conversion'),\n",
              " ('2008', 'double'),\n",
              " ('2008', 'decimal'),\n",
              " ('2008', 'html'),\n",
              " ('2008', 'css'),\n",
              " ('2008', 'internet-explorer-7'),\n",
              " ('2008', 'c#'),\n",
              " ('2008', '.net')]"
            ]
          },
          "metadata": {},
          "execution_count": 21
        }
      ]
    },
    {
      "cell_type": "code",
      "source": [
        "yearTags.count()"
      ],
      "metadata": {
        "colab": {
          "base_uri": "https://localhost:8080/"
        },
        "id": "etVPokBMwqx5",
        "outputId": "bcb8aafc-058c-458b-907a-70776d98616e"
      },
      "execution_count": 22,
      "outputs": [
        {
          "output_type": "execute_result",
          "data": {
            "text/plain": [
              "53297"
            ]
          },
          "metadata": {},
          "execution_count": 22
        }
      ]
    },
    {
      "cell_type": "code",
      "source": [
        "# Отфильтруем только те теги, которые содержатся в списке языков программирования:\n",
        "yearLanguageTags = yearTags.filter(lambda record: record[1] in languages)\n",
        "yearLanguageTags.take(10)"
      ],
      "metadata": {
        "colab": {
          "base_uri": "https://localhost:8080/"
        },
        "id": "4hMpURozwq0v",
        "outputId": "a5f23b04-6dda-4d46-fde4-a2573cedba03"
      },
      "execution_count": 23,
      "outputs": [
        {
          "output_type": "execute_result",
          "data": {
            "text/plain": [
              "[('2010', 'java'),\n",
              " ('2010', 'php'),\n",
              " ('2010', 'ruby'),\n",
              " ('2010', 'c'),\n",
              " ('2010', 'php'),\n",
              " ('2010', 'python'),\n",
              " ('2010', 'javascript'),\n",
              " ('2010', 'applescript'),\n",
              " ('2010', 'php'),\n",
              " ('2010', 'php')]"
            ]
          },
          "metadata": {},
          "execution_count": 23
        }
      ]
    },
    {
      "cell_type": "code",
      "source": [
        "yearLanguageTags.count()"
      ],
      "metadata": {
        "colab": {
          "base_uri": "https://localhost:8080/"
        },
        "id": "AMBOowx9wq3l",
        "outputId": "f3e5b95f-21e1-4c29-d98b-b05f5e890b14"
      },
      "execution_count": 24,
      "outputs": [
        {
          "output_type": "execute_result",
          "data": {
            "text/plain": [
              "8204"
            ]
          },
          "metadata": {},
          "execution_count": 24
        }
      ]
    },
    {
      "cell_type": "code",
      "source": [
        "# Сгенерируем список годов, за которые нам нужно сформировать таблицы отчета:\n",
        "years = list(map(str, [year for year in range(2010, 2020)]))\n",
        "print(years)"
      ],
      "metadata": {
        "colab": {
          "base_uri": "https://localhost:8080/"
        },
        "id": "tNecOh9Dwq6X",
        "outputId": "37bd1944-0512-4d23-b4bf-70c3aeaa09ce"
      },
      "execution_count": 25,
      "outputs": [
        {
          "output_type": "stream",
          "name": "stdout",
          "text": [
            "['2010', '2011', '2012', '2013', '2014', '2015', '2016', '2017', '2018', '2019']\n"
          ]
        }
      ]
    },
    {
      "cell_type": "code",
      "source": [
        "# Для каждого года из списка посчитаем количества упоминаний каждого языка в постах на stackoverflow:\n",
        "yearsTagCounts = map(lambda year: yearLanguageTags.filter(lambda record: record[0] == year) \\\n",
        "                                                         .map(lambda x: (x[1], 1)) \\\n",
        "                                                         .reduceByKey(lambda a, b: a + b) \\\n",
        "                                                         .map(lambda y: (year, y[0], y[1])), years)\n",
        "yearsTagCounts = list(yearsTagCounts)\n",
        "print(yearsTagCounts)"
      ],
      "metadata": {
        "colab": {
          "base_uri": "https://localhost:8080/"
        },
        "id": "WS6cXgV6wq9f",
        "outputId": "82e44938-d9df-432e-8dd1-c30e119f2b96"
      },
      "execution_count": 26,
      "outputs": [
        {
          "output_type": "stream",
          "name": "stdout",
          "text": [
            "[PythonRDD[62] at RDD at PythonRDD.scala:53, PythonRDD[63] at RDD at PythonRDD.scala:53, PythonRDD[64] at RDD at PythonRDD.scala:53, PythonRDD[65] at RDD at PythonRDD.scala:53, PythonRDD[66] at RDD at PythonRDD.scala:53, PythonRDD[67] at RDD at PythonRDD.scala:53, PythonRDD[68] at RDD at PythonRDD.scala:53, PythonRDD[69] at RDD at PythonRDD.scala:53, PythonRDD[70] at RDD at PythonRDD.scala:53, PythonRDD[71] at RDD at PythonRDD.scala:53]\n"
          ]
        }
      ]
    },
    {
      "cell_type": "code",
      "source": [
        "yearsTagCounts[0].take(10)"
      ],
      "metadata": {
        "colab": {
          "base_uri": "https://localhost:8080/"
        },
        "id": "wkehh-TkwrAb",
        "outputId": "f4a97454-ecc2-4798-84da-c9637237e2cb"
      },
      "execution_count": 27,
      "outputs": [
        {
          "output_type": "execute_result",
          "data": {
            "text/plain": [
              "[('2010', 'php', 46),\n",
              " ('2010', 'python', 26),\n",
              " ('2010', 'javascript', 44),\n",
              " ('2010', 'applescript', 3),\n",
              " ('2010', 'sed', 2),\n",
              " ('2010', 'xpath', 1),\n",
              " ('2010', 'java', 52),\n",
              " ('2010', 'objective-c', 23),\n",
              " ('2010', 'basic', 1),\n",
              " ('2010', 'f#', 2)]"
            ]
          },
          "metadata": {},
          "execution_count": 27
        }
      ]
    },
    {
      "cell_type": "code",
      "source": [
        "# Для каждого года отфильтруем только топ-10 самых популярных языков программирования:\n",
        "topYearsTagCounts = list(map(lambda rdd: rdd.sortBy(lambda raw: raw[2], False).top(10, lambda x: x[2]), yearsTagCounts))\n",
        "print(topYearsTagCounts)"
      ],
      "metadata": {
        "colab": {
          "base_uri": "https://localhost:8080/"
        },
        "id": "uf9MGlj1arDL",
        "outputId": "fd6a8b4b-a326-46a7-854c-5516c50f775b"
      },
      "execution_count": 28,
      "outputs": [
        {
          "output_type": "stream",
          "name": "stdout",
          "text": [
            "[[('2010', 'java', 52), ('2010', 'php', 46), ('2010', 'javascript', 44), ('2010', 'python', 26), ('2010', 'objective-c', 23), ('2010', 'c', 20), ('2010', 'ruby', 12), ('2010', 'delphi', 8), ('2010', 'applescript', 3), ('2010', 'r', 3)], [('2011', 'php', 102), ('2011', 'java', 93), ('2011', 'javascript', 83), ('2011', 'python', 37), ('2011', 'objective-c', 34), ('2011', 'c', 24), ('2011', 'ruby', 20), ('2011', 'perl', 9), ('2011', 'delphi', 8), ('2011', 'bash', 7)], [('2012', 'php', 154), ('2012', 'javascript', 132), ('2012', 'java', 124), ('2012', 'python', 69), ('2012', 'objective-c', 45), ('2012', 'ruby', 27), ('2012', 'c', 27), ('2012', 'bash', 10), ('2012', 'r', 9), ('2012', 'xpath', 6)], [('2013', 'javascript', 198), ('2013', 'php', 198), ('2013', 'java', 194), ('2013', 'python', 90), ('2013', 'objective-c', 40), ('2013', 'c', 36), ('2013', 'ruby', 32), ('2013', 'r', 26), ('2013', 'bash', 12), ('2013', 'scala', 11)], [('2014', 'javascript', 239), ('2014', 'java', 228), ('2014', 'php', 167), ('2014', 'python', 109), ('2014', 'objective-c', 52), ('2014', 'c', 52), ('2014', 'r', 28), ('2014', 'ruby', 24), ('2014', 'bash', 17), ('2014', 'matlab', 17)], [('2015', 'javascript', 277), ('2015', 'java', 209), ('2015', 'php', 167), ('2015', 'python', 121), ('2015', 'r', 43), ('2015', 'c', 38), ('2015', 'objective-c', 30), ('2015', 'ruby', 21), ('2015', 'matlab', 16), ('2015', 'scala', 15)], [('2016', 'javascript', 278), ('2016', 'java', 184), ('2016', 'php', 155), ('2016', 'python', 146), ('2016', 'r', 52), ('2016', 'c', 32), ('2016', 'ruby', 24), ('2016', 'bash', 18), ('2016', 'scala', 16), ('2016', 'matlab', 15)], [('2017', 'javascript', 246), ('2017', 'java', 204), ('2017', 'python', 193), ('2017', 'php', 138), ('2017', 'r', 56), ('2017', 'c', 25), ('2017', 'typescript', 20), ('2017', 'objective-c', 19), ('2017', 'ruby', 17), ('2017', 'powershell', 14)], [('2018', 'python', 220), ('2018', 'javascript', 198), ('2018', 'java', 146), ('2018', 'php', 111), ('2018', 'r', 66), ('2018', 'typescript', 27), ('2018', 'c', 24), ('2018', 'scala', 23), ('2018', 'powershell', 13), ('2018', 'bash', 12)], [('2019', 'python', 166), ('2019', 'javascript', 135), ('2019', 'java', 95), ('2019', 'php', 65), ('2019', 'r', 37), ('2019', 'typescript', 17), ('2019', 'c', 14), ('2019', 'bash', 11), ('2019', 'dart', 9), ('2019', 'matlab', 9)]]\n"
          ]
        }
      ]
    },
    {
      "cell_type": "code",
      "source": [
        "# Сгладим полученный список:\n",
        "from functools import reduce\n",
        "\n",
        "finalReport = reduce(lambda x, y: x + y, topYearsTagCounts)\n",
        "print(finalReport)"
      ],
      "metadata": {
        "colab": {
          "base_uri": "https://localhost:8080/"
        },
        "id": "TyBk8eRzU9p2",
        "outputId": "2f61e27f-3c36-4496-db23-c974df502796"
      },
      "execution_count": 29,
      "outputs": [
        {
          "output_type": "stream",
          "name": "stdout",
          "text": [
            "[('2010', 'java', 52), ('2010', 'php', 46), ('2010', 'javascript', 44), ('2010', 'python', 26), ('2010', 'objective-c', 23), ('2010', 'c', 20), ('2010', 'ruby', 12), ('2010', 'delphi', 8), ('2010', 'applescript', 3), ('2010', 'r', 3), ('2011', 'php', 102), ('2011', 'java', 93), ('2011', 'javascript', 83), ('2011', 'python', 37), ('2011', 'objective-c', 34), ('2011', 'c', 24), ('2011', 'ruby', 20), ('2011', 'perl', 9), ('2011', 'delphi', 8), ('2011', 'bash', 7), ('2012', 'php', 154), ('2012', 'javascript', 132), ('2012', 'java', 124), ('2012', 'python', 69), ('2012', 'objective-c', 45), ('2012', 'ruby', 27), ('2012', 'c', 27), ('2012', 'bash', 10), ('2012', 'r', 9), ('2012', 'xpath', 6), ('2013', 'javascript', 198), ('2013', 'php', 198), ('2013', 'java', 194), ('2013', 'python', 90), ('2013', 'objective-c', 40), ('2013', 'c', 36), ('2013', 'ruby', 32), ('2013', 'r', 26), ('2013', 'bash', 12), ('2013', 'scala', 11), ('2014', 'javascript', 239), ('2014', 'java', 228), ('2014', 'php', 167), ('2014', 'python', 109), ('2014', 'objective-c', 52), ('2014', 'c', 52), ('2014', 'r', 28), ('2014', 'ruby', 24), ('2014', 'bash', 17), ('2014', 'matlab', 17), ('2015', 'javascript', 277), ('2015', 'java', 209), ('2015', 'php', 167), ('2015', 'python', 121), ('2015', 'r', 43), ('2015', 'c', 38), ('2015', 'objective-c', 30), ('2015', 'ruby', 21), ('2015', 'matlab', 16), ('2015', 'scala', 15), ('2016', 'javascript', 278), ('2016', 'java', 184), ('2016', 'php', 155), ('2016', 'python', 146), ('2016', 'r', 52), ('2016', 'c', 32), ('2016', 'ruby', 24), ('2016', 'bash', 18), ('2016', 'scala', 16), ('2016', 'matlab', 15), ('2017', 'javascript', 246), ('2017', 'java', 204), ('2017', 'python', 193), ('2017', 'php', 138), ('2017', 'r', 56), ('2017', 'c', 25), ('2017', 'typescript', 20), ('2017', 'objective-c', 19), ('2017', 'ruby', 17), ('2017', 'powershell', 14), ('2018', 'python', 220), ('2018', 'javascript', 198), ('2018', 'java', 146), ('2018', 'php', 111), ('2018', 'r', 66), ('2018', 'typescript', 27), ('2018', 'c', 24), ('2018', 'scala', 23), ('2018', 'powershell', 13), ('2018', 'bash', 12), ('2019', 'python', 166), ('2019', 'javascript', 135), ('2019', 'java', 95), ('2019', 'php', 65), ('2019', 'r', 37), ('2019', 'typescript', 17), ('2019', 'c', 14), ('2019', 'bash', 11), ('2019', 'dart', 9), ('2019', 'matlab', 9)]\n"
          ]
        }
      ]
    },
    {
      "cell_type": "code",
      "source": [
        "# Преобразуем полученный список в Data Frame:\n",
        "finalDataFrame = sc.parallelize(finalReport).toDF(['Year', 'Language', 'Count'])\n",
        "finalDataFrame.show(10 * len(years))"
      ],
      "metadata": {
        "id": "1_NvhxIOwrJX",
        "colab": {
          "base_uri": "https://localhost:8080/"
        },
        "outputId": "c71c702b-9292-406a-fa88-e69160982847"
      },
      "execution_count": 30,
      "outputs": [
        {
          "output_type": "stream",
          "name": "stdout",
          "text": [
            "+----+-----------+-----+\n",
            "|Year|   Language|Count|\n",
            "+----+-----------+-----+\n",
            "|2010|       java|   52|\n",
            "|2010|        php|   46|\n",
            "|2010| javascript|   44|\n",
            "|2010|     python|   26|\n",
            "|2010|objective-c|   23|\n",
            "|2010|          c|   20|\n",
            "|2010|       ruby|   12|\n",
            "|2010|     delphi|    8|\n",
            "|2010|applescript|    3|\n",
            "|2010|          r|    3|\n",
            "|2011|        php|  102|\n",
            "|2011|       java|   93|\n",
            "|2011| javascript|   83|\n",
            "|2011|     python|   37|\n",
            "|2011|objective-c|   34|\n",
            "|2011|          c|   24|\n",
            "|2011|       ruby|   20|\n",
            "|2011|       perl|    9|\n",
            "|2011|     delphi|    8|\n",
            "|2011|       bash|    7|\n",
            "|2012|        php|  154|\n",
            "|2012| javascript|  132|\n",
            "|2012|       java|  124|\n",
            "|2012|     python|   69|\n",
            "|2012|objective-c|   45|\n",
            "|2012|       ruby|   27|\n",
            "|2012|          c|   27|\n",
            "|2012|       bash|   10|\n",
            "|2012|          r|    9|\n",
            "|2012|      xpath|    6|\n",
            "|2013| javascript|  198|\n",
            "|2013|        php|  198|\n",
            "|2013|       java|  194|\n",
            "|2013|     python|   90|\n",
            "|2013|objective-c|   40|\n",
            "|2013|          c|   36|\n",
            "|2013|       ruby|   32|\n",
            "|2013|          r|   26|\n",
            "|2013|       bash|   12|\n",
            "|2013|      scala|   11|\n",
            "|2014| javascript|  239|\n",
            "|2014|       java|  228|\n",
            "|2014|        php|  167|\n",
            "|2014|     python|  109|\n",
            "|2014|objective-c|   52|\n",
            "|2014|          c|   52|\n",
            "|2014|          r|   28|\n",
            "|2014|       ruby|   24|\n",
            "|2014|       bash|   17|\n",
            "|2014|     matlab|   17|\n",
            "|2015| javascript|  277|\n",
            "|2015|       java|  209|\n",
            "|2015|        php|  167|\n",
            "|2015|     python|  121|\n",
            "|2015|          r|   43|\n",
            "|2015|          c|   38|\n",
            "|2015|objective-c|   30|\n",
            "|2015|       ruby|   21|\n",
            "|2015|     matlab|   16|\n",
            "|2015|      scala|   15|\n",
            "|2016| javascript|  278|\n",
            "|2016|       java|  184|\n",
            "|2016|        php|  155|\n",
            "|2016|     python|  146|\n",
            "|2016|          r|   52|\n",
            "|2016|          c|   32|\n",
            "|2016|       ruby|   24|\n",
            "|2016|       bash|   18|\n",
            "|2016|      scala|   16|\n",
            "|2016|     matlab|   15|\n",
            "|2017| javascript|  246|\n",
            "|2017|       java|  204|\n",
            "|2017|     python|  193|\n",
            "|2017|        php|  138|\n",
            "|2017|          r|   56|\n",
            "|2017|          c|   25|\n",
            "|2017| typescript|   20|\n",
            "|2017|objective-c|   19|\n",
            "|2017|       ruby|   17|\n",
            "|2017| powershell|   14|\n",
            "|2018|     python|  220|\n",
            "|2018| javascript|  198|\n",
            "|2018|       java|  146|\n",
            "|2018|        php|  111|\n",
            "|2018|          r|   66|\n",
            "|2018| typescript|   27|\n",
            "|2018|          c|   24|\n",
            "|2018|      scala|   23|\n",
            "|2018| powershell|   13|\n",
            "|2018|       bash|   12|\n",
            "|2019|     python|  166|\n",
            "|2019| javascript|  135|\n",
            "|2019|       java|   95|\n",
            "|2019|        php|   65|\n",
            "|2019|          r|   37|\n",
            "|2019| typescript|   17|\n",
            "|2019|          c|   14|\n",
            "|2019|       bash|   11|\n",
            "|2019|       dart|    9|\n",
            "|2019|     matlab|    9|\n",
            "+----+-----------+-----+\n",
            "\n"
          ]
        }
      ]
    },
    {
      "cell_type": "code",
      "source": [
        "# Сохраним полученный отчет в формате Apache Parquet:\n",
        "finalDataFrame.write.parquet(\"/content/top_10_languages_by_year\")"
      ],
      "metadata": {
        "id": "pmPPkMU4wrMa"
      },
      "execution_count": 31,
      "outputs": []
    },
    {
      "cell_type": "code",
      "source": [],
      "metadata": {
        "id": "ZwH0MXTpwPby"
      },
      "execution_count": 31,
      "outputs": []
    },
    {
      "cell_type": "code",
      "source": [],
      "metadata": {
        "id": "7ppvVg4PwPek"
      },
      "execution_count": 31,
      "outputs": []
    },
    {
      "cell_type": "code",
      "source": [],
      "metadata": {
        "id": "jQZOr0mOwPg5"
      },
      "execution_count": 31,
      "outputs": []
    }
  ]
}